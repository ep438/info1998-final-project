{
 "cells": [
  {
   "cell_type": "markdown",
   "id": "dab39b23",
   "metadata": {},
   "source": [
    "# Predicting Dog Bites in NYC"
   ]
  },
  {
   "cell_type": "markdown",
   "id": "2a446b10",
   "metadata": {},
   "source": [
    "## INFO 1998 Fall '23 Final Project "
   ]
  },
  {
   "cell_type": "markdown",
   "id": "39347d63",
   "metadata": {},
   "source": [
    "### By Elisabeth Pan, Victoria Varkonyi"
   ]
  },
  {
   "cell_type": "markdown",
   "metadata": {},
   "source": [
    "#### Introduction\n",
    "\n",
    "In this project, we perform explorative data and predictive analysis on a dataset containing information about dog bites in NYC from the years of 2015 to 2021.\n",
    "\n",
    "We want to answer the following questions:\n",
    "1. Are dogs more likely to bite during different times of the year?\n",
    "2. What features of dogs (location, breed, gender) are most correlated with each other?\n",
    "3. Given certain features, can we predict the gender of a dog? \n",
    "4. Can we accurately predict whether or not a dog is more likely to be neutered based on its zipcode?\n",
    "\n",
    "Here we outline our approach to this task:\n",
    "1. Import necessary packages, preprocess, clean, and manipulate dataset\n",
    "2. Data Visualizations\n",
    "3. Machine Learning Models"
   ]
  },
  {
   "cell_type": "markdown",
   "metadata": {},
   "source": [
    "## Step 1: Importing data, preprocessing and cleaning data"
   ]
  },
  {
   "cell_type": "code",
   "execution_count": 36,
   "id": "f31d7119",
   "metadata": {},
   "outputs": [],
   "source": [
    "# Package imports\n",
    "import pandas as pd\n",
    "import numpy as np\n",
    "import seaborn as sns\n",
    "import matplotlib.pyplot as plt\n",
    "from datetime import datetime\n",
    "from sklearn.preprocessing import LabelEncoder\n",
    "from sklearn.model_selection import train_test_split\n",
    "from sklearn.neighbors import KNeighborsClassifier\n",
    "from sklearn.metrics import accuracy_score, plot_confusion_matrix\n",
    "from sklearn.cluster import KMeans"
   ]
  },
  {
   "cell_type": "code",
   "execution_count": 4,
   "id": "11952e3f",
   "metadata": {},
   "outputs": [
    {
     "name": "stdout",
     "output_type": "stream",
     "text": [
      "<class 'pandas.core.frame.DataFrame'>\n",
      "RangeIndex: 22663 entries, 0 to 22662\n",
      "Data columns (total 9 columns):\n",
      " #   Column      Non-Null Count  Dtype \n",
      "---  ------      --------------  ----- \n",
      " 0   UniqueID    22663 non-null  int64 \n",
      " 1   DateOfBite  22663 non-null  object\n",
      " 2   Species     22663 non-null  object\n",
      " 3   Breed       20445 non-null  object\n",
      " 4   Age         11442 non-null  object\n",
      " 5   Gender      22663 non-null  object\n",
      " 6   SpayNeuter  22663 non-null  bool  \n",
      " 7   Borough     22663 non-null  object\n",
      " 8   ZipCode     16805 non-null  object\n",
      "dtypes: bool(1), int64(1), object(7)\n",
      "memory usage: 1.4+ MB\n"
     ]
    },
    {
     "data": {
      "text/html": [
       "<div>\n",
       "<style scoped>\n",
       "    .dataframe tbody tr th:only-of-type {\n",
       "        vertical-align: middle;\n",
       "    }\n",
       "\n",
       "    .dataframe tbody tr th {\n",
       "        vertical-align: top;\n",
       "    }\n",
       "\n",
       "    .dataframe thead th {\n",
       "        text-align: right;\n",
       "    }\n",
       "</style>\n",
       "<table border=\"1\" class=\"dataframe\">\n",
       "  <thead>\n",
       "    <tr style=\"text-align: right;\">\n",
       "      <th></th>\n",
       "      <th>UniqueID</th>\n",
       "      <th>DateOfBite</th>\n",
       "      <th>Species</th>\n",
       "      <th>Breed</th>\n",
       "      <th>Age</th>\n",
       "      <th>Gender</th>\n",
       "      <th>SpayNeuter</th>\n",
       "      <th>Borough</th>\n",
       "      <th>ZipCode</th>\n",
       "    </tr>\n",
       "  </thead>\n",
       "  <tbody>\n",
       "    <tr>\n",
       "      <th>0</th>\n",
       "      <td>1</td>\n",
       "      <td>January 01 2018</td>\n",
       "      <td>DOG</td>\n",
       "      <td>UNKNOWN</td>\n",
       "      <td>NaN</td>\n",
       "      <td>U</td>\n",
       "      <td>False</td>\n",
       "      <td>Brooklyn</td>\n",
       "      <td>11220</td>\n",
       "    </tr>\n",
       "    <tr>\n",
       "      <th>1</th>\n",
       "      <td>2</td>\n",
       "      <td>January 04 2018</td>\n",
       "      <td>DOG</td>\n",
       "      <td>UNKNOWN</td>\n",
       "      <td>NaN</td>\n",
       "      <td>U</td>\n",
       "      <td>False</td>\n",
       "      <td>Brooklyn</td>\n",
       "      <td>NaN</td>\n",
       "    </tr>\n",
       "    <tr>\n",
       "      <th>2</th>\n",
       "      <td>3</td>\n",
       "      <td>January 06 2018</td>\n",
       "      <td>DOG</td>\n",
       "      <td>Pit Bull</td>\n",
       "      <td>NaN</td>\n",
       "      <td>U</td>\n",
       "      <td>False</td>\n",
       "      <td>Brooklyn</td>\n",
       "      <td>11224</td>\n",
       "    </tr>\n",
       "    <tr>\n",
       "      <th>3</th>\n",
       "      <td>4</td>\n",
       "      <td>January 08 2018</td>\n",
       "      <td>DOG</td>\n",
       "      <td>Mixed/Other</td>\n",
       "      <td>4</td>\n",
       "      <td>M</td>\n",
       "      <td>False</td>\n",
       "      <td>Brooklyn</td>\n",
       "      <td>11231</td>\n",
       "    </tr>\n",
       "    <tr>\n",
       "      <th>4</th>\n",
       "      <td>5</td>\n",
       "      <td>January 09 2018</td>\n",
       "      <td>DOG</td>\n",
       "      <td>Pit Bull</td>\n",
       "      <td>NaN</td>\n",
       "      <td>U</td>\n",
       "      <td>False</td>\n",
       "      <td>Brooklyn</td>\n",
       "      <td>11224</td>\n",
       "    </tr>\n",
       "  </tbody>\n",
       "</table>\n",
       "</div>"
      ],
      "text/plain": [
       "   UniqueID       DateOfBite Species        Breed  Age Gender  SpayNeuter  \\\n",
       "0         1  January 01 2018     DOG      UNKNOWN  NaN      U       False   \n",
       "1         2  January 04 2018     DOG      UNKNOWN  NaN      U       False   \n",
       "2         3  January 06 2018     DOG     Pit Bull  NaN      U       False   \n",
       "3         4  January 08 2018     DOG  Mixed/Other    4      M       False   \n",
       "4         5  January 09 2018     DOG     Pit Bull  NaN      U       False   \n",
       "\n",
       "    Borough ZipCode  \n",
       "0  Brooklyn   11220  \n",
       "1  Brooklyn     NaN  \n",
       "2  Brooklyn   11224  \n",
       "3  Brooklyn   11231  \n",
       "4  Brooklyn   11224  "
      ]
     },
     "execution_count": 4,
     "metadata": {},
     "output_type": "execute_result"
    }
   ],
   "source": [
    "# Load and preview data\n",
    "original = pd.read_csv('dog bites/Dog_Bites_Data.csv')\n",
    "original.info()\n",
    "original.head()"
   ]
  },
  {
   "cell_type": "code",
   "execution_count": 45,
   "id": "7e3105c5",
   "metadata": {},
   "outputs": [
    {
     "data": {
      "text/html": [
       "<div>\n",
       "<style scoped>\n",
       "    .dataframe tbody tr th:only-of-type {\n",
       "        vertical-align: middle;\n",
       "    }\n",
       "\n",
       "    .dataframe tbody tr th {\n",
       "        vertical-align: top;\n",
       "    }\n",
       "\n",
       "    .dataframe thead th {\n",
       "        text-align: right;\n",
       "    }\n",
       "</style>\n",
       "<table border=\"1\" class=\"dataframe\">\n",
       "  <thead>\n",
       "    <tr style=\"text-align: right;\">\n",
       "      <th></th>\n",
       "      <th>DateOfBite</th>\n",
       "      <th>Breed</th>\n",
       "      <th>Age</th>\n",
       "      <th>Gender</th>\n",
       "      <th>SpayNeuter</th>\n",
       "      <th>Borough</th>\n",
       "      <th>ZipCode</th>\n",
       "      <th>Month</th>\n",
       "      <th>DateString</th>\n",
       "    </tr>\n",
       "    <tr>\n",
       "      <th>UniqueID</th>\n",
       "      <th></th>\n",
       "      <th></th>\n",
       "      <th></th>\n",
       "      <th></th>\n",
       "      <th></th>\n",
       "      <th></th>\n",
       "      <th></th>\n",
       "      <th></th>\n",
       "      <th></th>\n",
       "    </tr>\n",
       "  </thead>\n",
       "  <tbody>\n",
       "    <tr>\n",
       "      <th>4</th>\n",
       "      <td>2018-01-08</td>\n",
       "      <td>Mixed/Other</td>\n",
       "      <td>4.0</td>\n",
       "      <td>M</td>\n",
       "      <td>False</td>\n",
       "      <td>Brooklyn</td>\n",
       "      <td>11231</td>\n",
       "      <td>January</td>\n",
       "      <td>January 08 2018</td>\n",
       "    </tr>\n",
       "    <tr>\n",
       "      <th>6</th>\n",
       "      <td>2018-01-03</td>\n",
       "      <td>BASENJI</td>\n",
       "      <td>4.0</td>\n",
       "      <td>M</td>\n",
       "      <td>False</td>\n",
       "      <td>Brooklyn</td>\n",
       "      <td>11231</td>\n",
       "      <td>January</td>\n",
       "      <td>January 03 2018</td>\n",
       "    </tr>\n",
       "    <tr>\n",
       "      <th>9</th>\n",
       "      <td>2018-01-04</td>\n",
       "      <td>American Pit Bull Mix / Pit Bull Mix</td>\n",
       "      <td>5.0</td>\n",
       "      <td>M</td>\n",
       "      <td>False</td>\n",
       "      <td>Brooklyn</td>\n",
       "      <td>11235</td>\n",
       "      <td>January</td>\n",
       "      <td>January 04 2018</td>\n",
       "    </tr>\n",
       "    <tr>\n",
       "      <th>10</th>\n",
       "      <td>2018-01-10</td>\n",
       "      <td>MIXED</td>\n",
       "      <td>3.0</td>\n",
       "      <td>F</td>\n",
       "      <td>False</td>\n",
       "      <td>Brooklyn</td>\n",
       "      <td>11208</td>\n",
       "      <td>January</td>\n",
       "      <td>January 10 2018</td>\n",
       "    </tr>\n",
       "    <tr>\n",
       "      <th>12</th>\n",
       "      <td>2018-01-07</td>\n",
       "      <td>Yorkshire Terrier Crossbreed</td>\n",
       "      <td>7.0</td>\n",
       "      <td>M</td>\n",
       "      <td>True</td>\n",
       "      <td>Brooklyn</td>\n",
       "      <td>11208</td>\n",
       "      <td>January</td>\n",
       "      <td>January 07 2018</td>\n",
       "    </tr>\n",
       "  </tbody>\n",
       "</table>\n",
       "</div>"
      ],
      "text/plain": [
       "         DateOfBite                                 Breed  Age Gender  \\\n",
       "UniqueID                                                                \n",
       "4        2018-01-08                           Mixed/Other  4.0      M   \n",
       "6        2018-01-03                               BASENJI  4.0      M   \n",
       "9        2018-01-04  American Pit Bull Mix / Pit Bull Mix  5.0      M   \n",
       "10       2018-01-10                                 MIXED  3.0      F   \n",
       "12       2018-01-07          Yorkshire Terrier Crossbreed  7.0      M   \n",
       "\n",
       "          SpayNeuter   Borough ZipCode    Month       DateString  \n",
       "UniqueID                                                          \n",
       "4              False  Brooklyn   11231  January  January 08 2018  \n",
       "6              False  Brooklyn   11231  January  January 03 2018  \n",
       "9              False  Brooklyn   11235  January  January 04 2018  \n",
       "10             False  Brooklyn   11208  January  January 10 2018  \n",
       "12              True  Brooklyn   11208  January  January 07 2018  "
      ]
     },
     "execution_count": 45,
     "metadata": {},
     "output_type": "execute_result"
    }
   ],
   "source": [
    "# Clean and manipulate data\n",
    "\n",
    "# set index to unique ID values\n",
    "df = original.set_index('UniqueID')\n",
    "\n",
    "# convert date of bite to datetime object\n",
    "df['DateOfBite'] = pd.to_datetime(df['DateOfBite'], format='%B %d %Y')\n",
    "\n",
    "# extract month from date of bite and create new month column\n",
    "df['Month'] = df['DateOfBite'].dt.month_name()\n",
    "\n",
    "# create new date column that contains original string dates\n",
    "original_dates = []\n",
    "for i in range(len(df)):\n",
    "    original_dates.append(original['DateOfBite'][i])\n",
    "df['DateString'] = original_dates\n",
    "\n",
    "# drop na values in age column\n",
    "df = df.dropna(subset=['Age'])\n",
    "\n",
    "# convert ages to float\n",
    "df['Age'] = df['Age'].str.extract('(\\d+)').astype(float)\n",
    "\n",
    "# pop species column because all observations are dogs\n",
    "df.pop('Species')\n",
    "\n",
    "# preview dataset\n",
    "df.head()"
   ]
  },
  {
   "cell_type": "code",
   "execution_count": 46,
   "id": "51e9f530",
   "metadata": {},
   "outputs": [
    {
     "data": {
      "text/html": [
       "<div>\n",
       "<style scoped>\n",
       "    .dataframe tbody tr th:only-of-type {\n",
       "        vertical-align: middle;\n",
       "    }\n",
       "\n",
       "    .dataframe tbody tr th {\n",
       "        vertical-align: top;\n",
       "    }\n",
       "\n",
       "    .dataframe thead th {\n",
       "        text-align: right;\n",
       "    }\n",
       "</style>\n",
       "<table border=\"1\" class=\"dataframe\">\n",
       "  <thead>\n",
       "    <tr style=\"text-align: right;\">\n",
       "      <th></th>\n",
       "      <th>DateOfBite</th>\n",
       "      <th>Breed</th>\n",
       "      <th>Age</th>\n",
       "      <th>Gender</th>\n",
       "      <th>SpayNeuter</th>\n",
       "      <th>Borough</th>\n",
       "      <th>ZipCode</th>\n",
       "      <th>Month</th>\n",
       "      <th>DateString</th>\n",
       "    </tr>\n",
       "    <tr>\n",
       "      <th>UniqueID</th>\n",
       "      <th></th>\n",
       "      <th></th>\n",
       "      <th></th>\n",
       "      <th></th>\n",
       "      <th></th>\n",
       "      <th></th>\n",
       "      <th></th>\n",
       "      <th></th>\n",
       "      <th></th>\n",
       "    </tr>\n",
       "  </thead>\n",
       "  <tbody>\n",
       "    <tr>\n",
       "      <th>4</th>\n",
       "      <td>2018-01-08</td>\n",
       "      <td>Mixed/Other</td>\n",
       "      <td>4.0</td>\n",
       "      <td>M</td>\n",
       "      <td>False</td>\n",
       "      <td>Brooklyn</td>\n",
       "      <td>11231</td>\n",
       "      <td>January</td>\n",
       "      <td>January 08 2018</td>\n",
       "    </tr>\n",
       "    <tr>\n",
       "      <th>6</th>\n",
       "      <td>2018-01-03</td>\n",
       "      <td>BASENJI</td>\n",
       "      <td>4.0</td>\n",
       "      <td>M</td>\n",
       "      <td>False</td>\n",
       "      <td>Brooklyn</td>\n",
       "      <td>11231</td>\n",
       "      <td>January</td>\n",
       "      <td>January 03 2018</td>\n",
       "    </tr>\n",
       "    <tr>\n",
       "      <th>9</th>\n",
       "      <td>2018-01-04</td>\n",
       "      <td>American Pit Bull Mix / Pit Bull Mix</td>\n",
       "      <td>5.0</td>\n",
       "      <td>M</td>\n",
       "      <td>False</td>\n",
       "      <td>Brooklyn</td>\n",
       "      <td>11235</td>\n",
       "      <td>January</td>\n",
       "      <td>January 04 2018</td>\n",
       "    </tr>\n",
       "    <tr>\n",
       "      <th>10</th>\n",
       "      <td>2018-01-10</td>\n",
       "      <td>MIXED</td>\n",
       "      <td>3.0</td>\n",
       "      <td>F</td>\n",
       "      <td>False</td>\n",
       "      <td>Brooklyn</td>\n",
       "      <td>11208</td>\n",
       "      <td>January</td>\n",
       "      <td>January 10 2018</td>\n",
       "    </tr>\n",
       "    <tr>\n",
       "      <th>12</th>\n",
       "      <td>2018-01-07</td>\n",
       "      <td>Yorkshire Terrier Crossbreed</td>\n",
       "      <td>7.0</td>\n",
       "      <td>M</td>\n",
       "      <td>True</td>\n",
       "      <td>Brooklyn</td>\n",
       "      <td>11208</td>\n",
       "      <td>January</td>\n",
       "      <td>January 07 2018</td>\n",
       "    </tr>\n",
       "  </tbody>\n",
       "</table>\n",
       "</div>"
      ],
      "text/plain": [
       "         DateOfBite                                 Breed  Age Gender  \\\n",
       "UniqueID                                                                \n",
       "4        2018-01-08                           Mixed/Other  4.0      M   \n",
       "6        2018-01-03                               BASENJI  4.0      M   \n",
       "9        2018-01-04  American Pit Bull Mix / Pit Bull Mix  5.0      M   \n",
       "10       2018-01-10                                 MIXED  3.0      F   \n",
       "12       2018-01-07          Yorkshire Terrier Crossbreed  7.0      M   \n",
       "\n",
       "          SpayNeuter   Borough ZipCode    Month       DateString  \n",
       "UniqueID                                                          \n",
       "4              False  Brooklyn   11231  January  January 08 2018  \n",
       "6              False  Brooklyn   11231  January  January 03 2018  \n",
       "9              False  Brooklyn   11235  January  January 04 2018  \n",
       "10             False  Brooklyn   11208  January  January 10 2018  \n",
       "12              True  Brooklyn   11208  January  January 07 2018  "
      ]
     },
     "execution_count": 46,
     "metadata": {},
     "output_type": "execute_result"
    }
   ],
   "source": [
    "# data without na values\n",
    "df_na = df.dropna()\n",
    "df_na.head()"
   ]
  },
  {
   "cell_type": "code",
   "execution_count": 47,
   "id": "6f7346d5",
   "metadata": {
    "scrolled": true
   },
   "outputs": [
    {
     "name": "stdout",
     "output_type": "stream",
     "text": [
      "The total number of observations in this dataset is 11442.\n",
      "The number of dogs whose breed is unknown is 305.\n",
      "The number of dogs whose gender is unknown is 194.\n"
     ]
    }
   ],
   "source": [
    "# Just miscellaneous information about the values in the dataset\n",
    "print(f\"The total number of observations in this dataset is {len(df)}.\")\n",
    "\n",
    "na_breed = df['Breed'].value_counts()['UNKNOWN']\n",
    "na_gender = df['Gender'].value_counts()['U']\n",
    "print(f\"The number of dogs whose breed is unknown is {na_breed}.\")\n",
    "print(f\"The number of dogs whose gender is unknown is {na_gender}.\")"
   ]
  },
  {
   "cell_type": "markdown",
   "metadata": {},
   "source": [
    "## Data Visualizations"
   ]
  },
  {
   "cell_type": "markdown",
   "metadata": {},
   "source": [
    "### In this graphical representation, we investigate the occurrence of dog bites throughout each month of the year. \n",
    "Are dogs more likely to bite during certain times of the year? Our hypothesis is that dog bites occur more frequently in the summer as heat may be a contributing factor to a rise in aggression in dogs."
   ]
  },
  {
   "cell_type": "code",
   "execution_count": 48,
   "id": "13980943",
   "metadata": {},
   "outputs": [
    {
     "data": {
      "image/png": "[encoded data removed]",
      "text/plain": [
       "<Figure size 720x432 with 1 Axes>"
      ]
     },
     "metadata": {
      "needs_background": "light"
     },
     "output_type": "display_data"
    }
   ],
   "source": [
    "# Month vs. Number of Bites\n",
    "\n",
    "plt.figure(figsize=(10, 6))\n",
    "sns.countplot(data=df, x='Month', order=['January', 'February', 'March', 'April', 'May', 'June', 'July', 'August', 'September', 'October', 'November', 'December'],\n",
    "              palette=['hotpink'], edgecolor=\".3\")\n",
    "plt.xticks(rotation=20)\n",
    "plt.title('Month vs number of bites')\n",
    "plt.xlabel('Month')\n",
    "plt.ylabel('Number of Bites')\n",
    "plt.show()"
   ]
  },
  {
   "cell_type": "markdown",
   "metadata": {},
   "source": [
    "#### Analysis\n",
    "Our hypothesis is correct, there is a rise during the summer months, notably peaking in June, July, and August, marking the highest number of bites annually. \n",
    "This observation can be logically attributed to the fact that dogs may exhibit increased irritability and aggression in response to hot weather."
   ]
  },
  {
   "cell_type": "markdown",
   "metadata": {},
   "source": [
    "### In this graphical representation, we investigate the correlation between features in the dataset.\n",
    "For example, is there a correlation between the breed of dog and the date of the bite? What about the breed of the dog and the borough it is located in? Is there a correlation between the date of the bite and the borough in which the dog bite happened? "
   ]
  },
  {
   "cell_type": "code",
   "execution_count": 49,
   "id": "40d380db",
   "metadata": {},
   "outputs": [
    {
     "name": "stderr",
     "output_type": "stream",
     "text": [
      "C:\\Users\\emmpa\\AppData\\Local\\Temp\\ipykernel_19636\\1886521428.py:5: SettingWithCopyWarning: \n",
      "A value is trying to be set on a copy of a slice from a DataFrame.\n",
      "Try using .loc[row_indexer,col_indexer] = value instead\n",
      "\n",
      "See the caveats in the documentation: https://pandas.pydata.org/pandas-docs/stable/user_guide/indexing.html#returning-a-view-versus-a-copy\n",
      "  df_na[i] = encoder.fit_transform(df_na[i])\n"
     ]
    },
    {
     "data": {
      "image/png": "[encoded data removed]",
      "text/plain": [
       "<Figure size 720x720 with 2 Axes>"
      ]
     },
     "metadata": {
      "needs_background": "light"
     },
     "output_type": "display_data"
    }
   ],
   "source": [
    "# correlation matrix of features in the data set\n",
    "encoder = LabelEncoder()\n",
    "\n",
    "for i in df.columns:\n",
    "    df_na[i] = encoder.fit_transform(df_na[i])\n",
    "    \n",
    "df_na.reset_index(drop = True, inplace = True)\n",
    "df_na.head()\n",
    "\n",
    "corrMatrix = df_na.corr()\n",
    "\n",
    "plt.subplots(figsize=(10,10))\n",
    "sns.heatmap(corrMatrix, annot=True)\n",
    "\n",
    "plt.show()"
   ]
  },
  {
   "cell_type": "code",
   "execution_count": 23,
   "id": "8c6580cd",
   "metadata": {},
   "outputs": [
    {
     "name": "stdout",
     "output_type": "stream",
     "text": [
      "            DateOfBite     Breed       Age    Gender  SpayNeuter   Borough  \\\n",
      "DateOfBite    1.000000  0.098600  0.042450  0.002003   -0.063824  0.013086   \n",
      "Breed         0.098600  1.000000  0.026645  0.021433   -0.075025 -0.009851   \n",
      "Age           0.042450  0.026645  1.000000 -0.034310    0.119191  0.020646   \n",
      "Gender        0.002003  0.021433 -0.034310  1.000000   -0.060451 -0.010751   \n",
      "SpayNeuter   -0.063824 -0.075025  0.119191 -0.060451    1.000000  0.115782   \n",
      "Borough       0.013086 -0.009851  0.020646 -0.010751    0.115782  1.000000   \n",
      "ZipCode       0.031249 -0.050951 -0.017364  0.009289    0.001560  0.288233   \n",
      "Month         0.062845  0.005607  0.007688 -0.004823   -0.001331  0.003242   \n",
      "DateString    0.066142  0.005517  0.009530 -0.005687   -0.001860  0.001830   \n",
      "\n",
      "             ZipCode     Month  DateString  \n",
      "DateOfBite  0.031249  0.062845    0.066142  \n",
      "Breed      -0.050951  0.005607    0.005517  \n",
      "Age        -0.017364  0.007688    0.009530  \n",
      "Gender      0.009289 -0.004823   -0.005687  \n",
      "SpayNeuter  0.001560 -0.001331   -0.001860  \n",
      "Borough     0.288233  0.003242    0.001830  \n",
      "ZipCode     1.000000  0.008554    0.009305  \n",
      "Month       0.008554  1.000000    0.996544  \n",
      "DateString  0.009305  0.996544    1.000000  \n"
     ]
    }
   ],
   "source": [
    "print(corrMatrix)"
   ]
  },
  {
   "cell_type": "markdown",
   "metadata": {},
   "source": [
    "#### Analysis\n",
    "We see from this correlation matrix visualization that there is little or very weak correlation between most of the features in this data set. To answer our previous questions, there is a 0.09 correlation between the breed of dog and the date of the bite, a -0.009 correlation between the breed of the dog and the borough it is located in, and a 0.013 correlation between the date of the bite and the borough in which the dog bite happened."
   ]
  },
  {
   "cell_type": "markdown",
   "metadata": {},
   "source": [
    "## Machine Learning Models"
   ]
  },
  {
   "cell_type": "markdown",
   "metadata": {},
   "source": [
    "## Classification Model\n",
    "Given certain features, can we predict the gender of a dog? \n",
    "\n",
    "We attempt to answer this question through classification using KNeighbors Classification."
   ]
  },
  {
   "cell_type": "code",
   "execution_count": 53,
   "id": "71d1c00f",
   "metadata": {},
   "outputs": [
    {
     "name": "stdout",
     "output_type": "stream",
     "text": [
      "Train Accuracy:  0.7568592742445316\n",
      "Test Accuracy:  0.6354903943377148\n"
     ]
    }
   ],
   "source": [
    "X = df_na.drop(['Gender', 'DateOfBite'], axis=1)\n",
    "Y = df_na['Gender']\n",
    "\n",
    "x_train, x_test, y_train, y_test = train_test_split(X,Y,test_size=0.2,random_state=42)\n",
    "\n",
    "model = KNeighborsClassifier()\n",
    "\n",
    "model.fit(x_train, y_train)\n",
    "\n",
    "train_pred = model.predict(x_train)\n",
    "test_pred = model.predict(x_test)\n",
    "\n",
    "print(\"Train Accuracy: \", accuracy_score(y_train, train_pred))\n",
    "print(\"Test Accuracy: \", accuracy_score(y_test, test_pred))"
   ]
  },
  {
   "cell_type": "markdown",
   "metadata": {},
   "source": [
    "Our model performs relatively well predicting dog gender given certain features with a training accuracy of 0.75 and a test accuracy of 0.64. Although performing fairly well, we can see in the confusion matrix below that the model may predict gender to be 1 (male) when the true gender is 2 (female)."
   ]
  },
  {
   "cell_type": "code",
   "execution_count": 54,
   "id": "8a3607e5",
   "metadata": {},
   "outputs": [
    {
     "name": "stderr",
     "output_type": "stream",
     "text": [
      "c:\\ProgramData\\Anaconda3\\lib\\site-packages\\sklearn\\utils\\deprecation.py:87: FutureWarning: Function plot_confusion_matrix is deprecated; Function `plot_confusion_matrix` is deprecated in 1.0 and will be removed in 1.2. Use one of the class methods: ConfusionMatrixDisplay.from_predictions or ConfusionMatrixDisplay.from_estimator.\n",
      "  warnings.warn(msg, category=FutureWarning)\n"
     ]
    },
    {
     "data": {
      "text/plain": [
       "<sklearn.metrics._plot.confusion_matrix.ConfusionMatrixDisplay at 0x1ef9f8f7160>"
      ]
     },
     "execution_count": 54,
     "metadata": {},
     "output_type": "execute_result"
    },
    {
     "data": {
      "image/png": "[encoded data removed]",
      "text/plain": [
       "<Figure size 432x288 with 2 Axes>"
      ]
     },
     "metadata": {
      "needs_background": "light"
     },
     "output_type": "display_data"
    }
   ],
   "source": [
    "plot_confusion_matrix(model, x_test, y_test, normalize='true')"
   ]
  },
  {
   "cell_type": "markdown",
   "metadata": {},
   "source": [
    "## Regression Model"
   ]
  },
  {
   "cell_type": "markdown",
   "metadata": {},
   "source": [
    "This logistic binary regression model operates by taking a dog's zip code as input and attempting to predict whether the dog is neutered or not. The accuracy of the model is 0.52, signifying that its predictive performance is roughly at chance level or random, as it falls near the midpoint of the accuracy scale (ranging from 0 to 1)."
   ]
  },
  {
   "cell_type": "code",
   "execution_count": 12,
   "id": "43aa9b89",
   "metadata": {},
   "outputs": [
    {
     "name": "stdout",
     "output_type": "stream",
     "text": [
      "Accuracy: 0.52\n"
     ]
    }
   ],
   "source": [
    "#predict if dog was neutered based on zipcode\n",
    "from sklearn.linear_model import LogisticRegression\n",
    "from sklearn.metrics import accuracy_score \n",
    "\n",
    "df = df.dropna(subset=['ZipCode'])\n",
    "df = df.dropna()\n",
    "\n",
    "X = df[['ZipCode']]\n",
    "y = df['SpayNeuter']\n",
    "\n",
    "# Split the data into a training set and test set using train_test_split\n",
    "train_x, test_x, train_y, test_y = train_test_split(X, y, test_size=0.2, random_state=2)\n",
    "\n",
    "# create logistic regression model\n",
    "model = LogisticRegression()\n",
    "\n",
    "# fit the logistic regression model and save predictions\n",
    "model.fit(train_x, train_y)\n",
    "predictions = model.predict(test_x)\n",
    "\n",
    "# calculate accuracy for classification\n",
    "accuracy = accuracy_score(test_y, predictions)\n",
    "print(f'Accuracy: {accuracy:.2f}')"
   ]
  },
  {
   "cell_type": "markdown",
   "metadata": {},
   "source": [
    "# Conclusion\n",
    "Through exploratory data analysis and use of machine learning models, we were able to answer the questions:\n",
    "    1. Are dogs more likely to bite during different times of the year?\n",
    "    2. What features of dogs (location, breed, gender) are most correlated with each other?\n",
    "    3. Given certain features, can we predict the gender of a dog? \n",
    "    4. Can we accurately predict whether or not a dog is more likely to be neutered based on its zipcode?\n",
    "\n",
    "We conclude that dogs are more likely to bite during the summer time and we suspect it to be due to the rise in temperatures that cause irritability and aggression in dogs. We conclude that where a dog is located in NYC and their breed as well as their age or gender have a weak correlation. Thus, we cannot say that breed is a good predictor of the borough in which the dog bite occurred. However, based on our classification model, given all of these features, we can predict fairly well the gender of a dog. In the future, we can explore this further by predicting the borough in which a dog bite occurred or the age of the dog. Lastly, we concluded that our regression model does not very accurately predict whether or not a dog is neutered or spayed based on their zip code. \n"
   ]
  }
 ],
 "metadata": {
  "kernelspec": {
   "display_name": "Python 3 (ipykernel)",
   "language": "python",
   "name": "python3"
  },
  "language_info": {
   "codemirror_mode": {
    "name": "ipython",
    "version": 3
   },
   "file_extension": ".py",
   "mimetype": "text/x-python",
   "name": "python",
   "nbconvert_exporter": "python",
   "pygments_lexer": "ipython3",
   "version": "3.9.12"
  }
 },
 "nbformat": 4,
 "nbformat_minor": 5
}
